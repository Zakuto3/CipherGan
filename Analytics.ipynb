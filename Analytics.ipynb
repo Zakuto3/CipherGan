{
 "metadata": {
  "language_info": {
   "codemirror_mode": {
    "name": "ipython",
    "version": 3
   },
   "file_extension": ".py",
   "mimetype": "text/x-python",
   "name": "python",
   "nbconvert_exporter": "python",
   "pygments_lexer": "ipython3",
   "version": "3.7.7-final"
  },
  "orig_nbformat": 2,
  "kernelspec": {
   "name": "python37764bitd778ef744b87447cbf6a8da99c067122",
   "display_name": "Python 3.7.7 64-bit",
   "language": "python"
  }
 },
 "nbformat": 4,
 "nbformat_minor": 2,
 "cells": [
  {
   "cell_type": "code",
   "execution_count": 1,
   "metadata": {},
   "outputs": [],
   "source": [
    "import glob\n",
    "import imageio\n",
    "import matplotlib.pyplot as plt\n",
    "import numpy as np\n",
    "import cv2 as cv2\n",
    "\n",
    "localpath = \"C:/Users/Zak/Documents/Code/AIChan/imgGan/CipherGan\"\n",
    "shapeSizex = 512\n",
    "shapeSizey = 512\n",
    "datasetSize= 30\n",
    "train_size = int(datasetSize/2)\n",
    "test_size = int(datasetSize/2)\n",
    "batch_size = 6\n",
    "num_examples_to_generate = 6\n",
    "epochs = 150\n",
    "latent_dim = 2"
   ]
  },
  {
   "cell_type": "code",
   "execution_count": 2,
   "metadata": {},
   "outputs": [],
   "source": [
    "anim_file = 'genimg/cvae5.gif'\n",
    "\n",
    "with imageio.get_writer(anim_file, mode='I') as writer:\n",
    "  filenames = glob.glob('genimg/image*.png')\n",
    "  filenames = sorted(filenames)\n",
    "  for filename in filenames:\n",
    "    image = imageio.imread(filename)\n",
    "    writer.append_data(image)\n",
    "  image = imageio.imread(filename)\n",
    "  writer.append_data(image)"
   ]
  },
  {
   "cell_type": "code",
   "execution_count": null,
   "metadata": {},
   "outputs": [],
   "source": [
    "list_ = []\n",
    "train_images=[]; test_images=[]\n",
    "\n",
    "def read_img(img_list, img):\n",
    "    n = cv2.imread(img, 0)\n",
    "    img_list.append(n)\n",
    "    return img_list\n",
    "\n",
    "path = glob.glob(localpath+\"/TestDataset/*.jpg\") #or jpg\n",
    "cv_image = [read_img(list_, img) for img in path]\n",
    "\n",
    "\n",
    "for img in range(len(cv_image)):\n",
    "    if img < test_size:\n",
    "        train_images.append(cv_image[0][img])\n",
    "    else:\n",
    "        test_images.append(cv_image[0][img])\n",
    "        \n",
    "print(np.array(cv_image).shape,cv_image,cv_image[0],cv_image[0][0])\n",
    "print(np.array(train_images).shape,train_images,train_images[0],train_images[0][0])"
   ]
  },
  {
   "cell_type": "code",
   "execution_count": null,
   "metadata": {},
   "outputs": [],
   "source": [
    "# TODO: Save model, Plot its overal interpolation\n",
    "def plot_latent_images(model, n, digit_size=shapeSize):\n",
    "  \"\"\"Plots n x n digit images decoded from the latent space.\"\"\"\n",
    "\n",
    "  norm = tfp.distributions.Normal(0, 1)\n",
    "  grid_x = norm.quantile(np.linspace(0.05, 0.95, n))\n",
    "  grid_y = norm.quantile(np.linspace(0.05, 0.95, n))\n",
    "  image_width = digit_size*n\n",
    "  image_height = image_width\n",
    "  image = np.zeros((image_height, image_width))\n",
    "\n",
    "  for i, yi in enumerate(grid_x):\n",
    "    for j, xi in enumerate(grid_y):\n",
    "      z = np.array([[xi, yi]])\n",
    "      x_decoded = model.sample(z)\n",
    "      digit = tf.reshape(x_decoded[0], (digit_size, digit_size))\n",
    "      image[i * digit_size: (i + 1) * digit_size,\n",
    "            j * digit_size: (j + 1) * digit_size] = digit.numpy()\n",
    "\n",
    "  plt.figure(figsize=(10, 10))\n",
    "  plt.imshow(image, cmap='Greys_r')\n",
    "  plt.axis('Off')\n",
    "  plt.show()\n",
    "\n",
    "  plot_latent_images(model, 20)"
   ]
  }
 ]
}